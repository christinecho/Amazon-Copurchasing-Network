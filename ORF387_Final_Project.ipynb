{
 "cells": [
  {
   "cell_type": "code",
   "execution_count": 14,
   "id": "52eb2162",
   "metadata": {},
   "outputs": [],
   "source": [
    "import networkx as nx\n",
    "import pandas as pd\n",
    "import numpy as np\n",
    "import matplotlib.pyplot as plt\n",
    "import scipy"
   ]
  },
  {
   "cell_type": "code",
   "execution_count": 15,
   "id": "ac0bb58e",
   "metadata": {},
   "outputs": [],
   "source": [
    "products =pd.DataFrame(pd.read_csv('products.csv'))\n",
    "cops=pd.DataFrame(pd.read_csv('copurchase.csv'))"
   ]
  },
  {
   "cell_type": "code",
   "execution_count": null,
   "id": "55a7a552",
   "metadata": {},
   "outputs": [],
   "source": [
    "products.head()"
   ]
  },
  {
   "cell_type": "code",
   "execution_count": null,
   "id": "16584276",
   "metadata": {},
   "outputs": [],
   "source": [
    "cops.head()"
   ]
  },
  {
   "cell_type": "code",
   "execution_count": 3,
   "id": "137cfd4e",
   "metadata": {},
   "outputs": [],
   "source": [
    "g = nx.from_pandas_edgelist(cops, 'Source', 'Target')"
   ]
  },
  {
   "cell_type": "code",
   "execution_count": null,
   "id": "8ec9488a",
   "metadata": {},
   "outputs": [],
   "source": [
    "products.group.unique()"
   ]
  },
  {
   "cell_type": "code",
   "execution_count": 16,
   "id": "eac159dd",
   "metadata": {},
   "outputs": [
    {
     "name": "stdout",
     "output_type": "stream",
     "text": [
      "num books: 188013\n",
      "num music: 48993\n",
      "num dvds: 9554\n",
      "num videos: 12597\n"
     ]
    }
   ],
   "source": [
    "# create dfs for categories\n",
    "books=products[(products['group']=='Book')]\n",
    "books_cops=cops[cops.Source.isin(books.id) & cops.Target.isin(books.id)]\n",
    "g_books = nx.from_pandas_edgelist(books_cops, 'Source', 'Target')\n",
    "\n",
    "music=products[(products['group']=='Music')]\n",
    "music_cops=cops[cops.Source.isin(music.id) & cops.Target.isin(music.id)]\n",
    "g_music = nx.from_pandas_edgelist(music_cops, 'Source', 'Target')\n",
    "\n",
    "dvds=products[(products['group']=='DVD')]\n",
    "dvds_cops=cops[cops.Source.isin(dvds.id) & cops.Target.isin(dvds.id)]\n",
    "g_dvds = nx.from_pandas_edgelist(dvds_cops, 'Source', 'Target')\n",
    "\n",
    "videos=products[(products['group']=='Video')]\n",
    "videos_cops=cops[cops.Source.isin(videos.id) & cops.Target.isin(videos.id)]\n",
    "g_videos = nx.from_pandas_edgelist(videos_cops, 'Source', 'Target')\n",
    "\n",
    "print(\"num books:\", len(books.index))\n",
    "print(\"num music:\", len(music.index))\n",
    "print(\"num dvds:\", len(dvds.index))\n",
    "print(\"num videos:\", len(videos.index))"
   ]
  },
  {
   "cell_type": "markdown",
   "id": "deaa7269",
   "metadata": {},
   "source": [
    "# Look at centrality measures"
   ]
  },
  {
   "cell_type": "markdown",
   "id": "43e5b540",
   "metadata": {},
   "source": [
    "## Degree"
   ]
  },
  {
   "cell_type": "code",
   "execution_count": 20,
   "id": "92fc6149",
   "metadata": {},
   "outputs": [],
   "source": [
    "def get_degree(g):\n",
    "    nodes = [node for (node, val) in g.degree()]\n",
    "    degrees = [val for (node, val) in g.degree()]\n",
    "    d = np.array(degrees)\n",
    "\n",
    "    print(\"min degree:\", min(d), \",node id: \", nodes[np.argmin(d)]) # prob more than 1\n",
    "    print(\"max degree:\", max(d), \",node id: \", nodes[np.argmax(d)])\n",
    "    print(\"mean degree:\", np.mean(d))\n",
    "    print(\"median degree:\", np.median(d))\n",
    "    \n",
    "    fig = plt.figure()\n",
    "    ax = fig.add_subplot(2, 1, 1)\n",
    "    ax.set_yscale('log')\n",
    "    ax.hist(d, weights=np.ones(len(d)) / len(d))"
   ]
  },
  {
   "cell_type": "code",
   "execution_count": 26,
   "id": "0881d8ab",
   "metadata": {},
   "outputs": [
    {
     "data": {
      "text/html": [
       "<div>\n",
       "<style scoped>\n",
       "    .dataframe tbody tr th:only-of-type {\n",
       "        vertical-align: middle;\n",
       "    }\n",
       "\n",
       "    .dataframe tbody tr th {\n",
       "        vertical-align: top;\n",
       "    }\n",
       "\n",
       "    .dataframe thead th {\n",
       "        text-align: right;\n",
       "    }\n",
       "</style>\n",
       "<table border=\"1\" class=\"dataframe\">\n",
       "  <thead>\n",
       "    <tr style=\"text-align: right;\">\n",
       "      <th></th>\n",
       "      <th>id</th>\n",
       "      <th>title</th>\n",
       "      <th>group</th>\n",
       "      <th>salesrank</th>\n",
       "      <th>review_cnt</th>\n",
       "      <th>downloads</th>\n",
       "      <th>rating</th>\n",
       "    </tr>\n",
       "  </thead>\n",
       "  <tbody>\n",
       "    <tr>\n",
       "      <th>14805</th>\n",
       "      <td>14949</td>\n",
       "      <td>Fodor's Australia 2000</td>\n",
       "      <td>Book</td>\n",
       "      <td>793062.0</td>\n",
       "      <td>1</td>\n",
       "      <td>1</td>\n",
       "      <td>5.0</td>\n",
       "    </tr>\n",
       "  </tbody>\n",
       "</table>\n",
       "</div>"
      ],
      "text/plain": [
       "          id                   title group  salesrank  review_cnt  downloads  \\\n",
       "14805  14949  Fodor's Australia 2000  Book   793062.0           1          1   \n",
       "\n",
       "       rating  \n",
       "14805     5.0  "
      ]
     },
     "execution_count": 26,
     "metadata": {},
     "output_type": "execute_result"
    }
   ],
   "source": [
    "max_centrality_prod = products[products['id'] == nodes[np.argmax(d)]]\n",
    "max_centrality_prod"
   ]
  },
  {
   "cell_type": "code",
   "execution_count": 29,
   "id": "2ae92e9c",
   "metadata": {},
   "outputs": [
    {
     "name": "stdout",
     "output_type": "stream",
     "text": [
      "min degree: 1 ,node id:  289\n",
      "max degree: 420 ,node id:  14949\n",
      "mean degree: 6.865720499027126\n",
      "median degree: 6.0\n"
     ]
    },
    {
     "data": {
      "image/png": "[encoded data removed]",
      "text/plain": [
       "<Figure size 432x288 with 1 Axes>"
      ]
     },
     "metadata": {
      "needs_background": "light"
     },
     "output_type": "display_data"
    }
   ],
   "source": [
    "get_degree(g)"
   ]
  },
  {
   "cell_type": "code",
   "execution_count": 30,
   "id": "c09cf5fc",
   "metadata": {},
   "outputs": [
    {
     "name": "stdout",
     "output_type": "stream",
     "text": [
      "min degree: 1 ,node id:  300\n",
      "max degree: 309 ,node id:  14949\n",
      "mean degree: 4.990120711050944\n",
      "median degree: 4.0\n"
     ]
    },
    {
     "data": {
      "image/png": "[encoded data removed]",
      "text/plain": [
       "<Figure size 432x288 with 1 Axes>"
      ]
     },
     "metadata": {
      "needs_background": "light"
     },
     "output_type": "display_data"
    }
   ],
   "source": [
    "get_degree(g_books)"
   ]
  },
  {
   "cell_type": "code",
   "execution_count": 31,
   "id": "af0882a4",
   "metadata": {},
   "outputs": [
    {
     "name": "stdout",
     "output_type": "stream",
     "text": [
      "min degree: 1 ,node id:  208\n",
      "max degree: 62 ,node id:  10519\n",
      "mean degree: 1.897109793474836\n",
      "median degree: 2.0\n"
     ]
    },
    {
     "data": {
      "image/png": "[encoded data removed]",
      "text/plain": [
       "<Figure size 432x288 with 1 Axes>"
      ]
     },
     "metadata": {
      "needs_background": "light"
     },
     "output_type": "display_data"
    }
   ],
   "source": [
    "get_degree(g_music)"
   ]
  },
  {
   "cell_type": "code",
   "execution_count": 32,
   "id": "ca7e7cb4",
   "metadata": {},
   "outputs": [
    {
     "name": "stdout",
     "output_type": "stream",
     "text": [
      "min degree: 1 ,node id:  44\n",
      "max degree: 8 ,node id:  12615\n",
      "mean degree: 1.376510067114094\n",
      "median degree: 1.0\n"
     ]
    },
    {
     "data": {
      "image/png": "[encoded data removed]",
      "text/plain": [
       "<Figure size 432x288 with 1 Axes>"
      ]
     },
     "metadata": {
      "needs_background": "light"
     },
     "output_type": "display_data"
    }
   ],
   "source": [
    "get_degree(g_dvds)"
   ]
  },
  {
   "cell_type": "code",
   "execution_count": 33,
   "id": "52301edb",
   "metadata": {},
   "outputs": [
    {
     "name": "stdout",
     "output_type": "stream",
     "text": [
      "min degree: 1 ,node id:  410\n",
      "max degree: 10 ,node id:  40546\n",
      "mean degree: 1.2547887693518762\n",
      "median degree: 1.0\n"
     ]
    },
    {
     "data": {
      "image/png": "[encoded data removed]",
      "text/plain": [
       "<Figure size 432x288 with 1 Axes>"
      ]
     },
     "metadata": {
      "needs_background": "light"
     },
     "output_type": "display_data"
    }
   ],
   "source": [
    "get_degree(g_videos)"
   ]
  },
  {
   "cell_type": "markdown",
   "id": "8213f2d4",
   "metadata": {},
   "source": [
    "## Betweeness"
   ]
  },
  {
   "cell_type": "code",
   "execution_count": 37,
   "id": "fca2c491",
   "metadata": {},
   "outputs": [],
   "source": [
    "def get_betweenness(g):\n",
    "    betweenness = nx.betweenness_centrality(g)\n",
    "#     degrees = [val for (node, val) in g.degree()]\n",
    "#     d = np.array(degrees)\n",
    "    b = list(betweenness.values())\n",
    "\n",
    "    i = max(betweenness, key=betweenness.get)\n",
    "    print(i)\n",
    "#     print(betweenness.values())\n",
    "    print(max(list(betweenness.values())))\n",
    "\n",
    "    fig = plt.figure()\n",
    "    ax = fig.add_subplot(2, 1, 1)\n",
    "    ax.set_yscale('log')\n",
    "    ax.hist(b)"
   ]
  },
  {
   "cell_type": "code",
   "execution_count": 38,
   "id": "97389a41",
   "metadata": {},
   "outputs": [
    {
     "name": "stdout",
     "output_type": "stream",
     "text": [
      "12615\n",
      "1.4428287017404797e-05\n"
     ]
    },
    {
     "data": {
      "image/png": "[encoded data removed]",
      "text/plain": [
       "<Figure size 432x288 with 1 Axes>"
      ]
     },
     "metadata": {
      "needs_background": "light"
     },
     "output_type": "display_data"
    }
   ],
   "source": [
    "get_betweenness(g_dvds)"
   ]
  },
  {
   "cell_type": "code",
   "execution_count": 39,
   "id": "fcc347d8",
   "metadata": {},
   "outputs": [
    {
     "name": "stdout",
     "output_type": "stream",
     "text": [
      "10745\n",
      "1.8604920381276835e-05\n"
     ]
    },
    {
     "data": {
      "image/png": "[encoded data removed]",
      "text/plain": [
       "<Figure size 432x288 with 1 Axes>"
      ]
     },
     "metadata": {
      "needs_background": "light"
     },
     "output_type": "display_data"
    }
   ],
   "source": [
    "get_betweenness(g_videos)"
   ]
  },
  {
   "cell_type": "code",
   "execution_count": 1,
   "id": "a3535b27",
   "metadata": {},
   "outputs": [
    {
     "ename": "NameError",
     "evalue": "name 'products' is not defined",
     "output_type": "error",
     "traceback": [
      "\u001b[0;31m---------------------------------------------------------------------------\u001b[0m",
      "\u001b[0;31mNameError\u001b[0m                                 Traceback (most recent call last)",
      "Input \u001b[0;32mIn [1]\u001b[0m, in \u001b[0;36m<cell line: 1>\u001b[0;34m()\u001b[0m\n\u001b[0;32m----> 1\u001b[0m music_pop\u001b[38;5;241m=\u001b[39m\u001b[43mproducts\u001b[49m[(products[\u001b[38;5;124m'\u001b[39m\u001b[38;5;124mgroup\u001b[39m\u001b[38;5;124m'\u001b[39m]\u001b[38;5;241m==\u001b[39m\u001b[38;5;124m'\u001b[39m\u001b[38;5;124mMusic\u001b[39m\u001b[38;5;124m'\u001b[39m) \u001b[38;5;241m&\u001b[39m (products[\u001b[38;5;124m'\u001b[39m\u001b[38;5;124msalesrank\u001b[39m\u001b[38;5;124m'\u001b[39m] \u001b[38;5;241m<\u001b[39m\u001b[38;5;241m=\u001b[39m \u001b[38;5;241m130000\u001b[39m)]\n\u001b[1;32m      2\u001b[0m music_pop_cops\u001b[38;5;241m=\u001b[39mcops[cops\u001b[38;5;241m.\u001b[39mSource\u001b[38;5;241m.\u001b[39misin(music_pop\u001b[38;5;241m.\u001b[39mid) \u001b[38;5;241m&\u001b[39m cops\u001b[38;5;241m.\u001b[39mTarget\u001b[38;5;241m.\u001b[39misin(music_pop\u001b[38;5;241m.\u001b[39mid)]\n\u001b[1;32m      3\u001b[0m g_music_pop \u001b[38;5;241m=\u001b[39m nx\u001b[38;5;241m.\u001b[39mfrom_pandas_edgelist(music_pop_cops, \u001b[38;5;124m'\u001b[39m\u001b[38;5;124mSource\u001b[39m\u001b[38;5;124m'\u001b[39m, \u001b[38;5;124m'\u001b[39m\u001b[38;5;124mTarget\u001b[39m\u001b[38;5;124m'\u001b[39m)\n",
      "\u001b[0;31mNameError\u001b[0m: name 'products' is not defined"
     ]
    }
   ],
   "source": [
    "music_pop=products[(products['group']=='Music') & (products['salesrank'] <= 130000)]\n",
    "music_pop_cops=cops[cops.Source.isin(music_pop.id) & cops.Target.isin(music_pop.id)]\n",
    "g_music_pop = nx.from_pandas_edgelist(music_pop_cops, 'Source', 'Target')\n",
    "\n",
    "get_betweenness(g_music_pop)\n",
    "\n",
    "# i = max(nx.betweenness_centrality(g_music), key=nx.betweenness_centrality(g_music).get)\n",
    "# print(i)\n",
    "# print(max(nx.betweenness_centrality(g_music)))"
   ]
  },
  {
   "cell_type": "code",
   "execution_count": 2,
   "id": "1b6cbc4a",
   "metadata": {},
   "outputs": [
    {
     "ename": "NameError",
     "evalue": "name 'products' is not defined",
     "output_type": "error",
     "traceback": [
      "\u001b[0;31m---------------------------------------------------------------------------\u001b[0m",
      "\u001b[0;31mNameError\u001b[0m                                 Traceback (most recent call last)",
      "Input \u001b[0;32mIn [2]\u001b[0m, in \u001b[0;36m<cell line: 1>\u001b[0;34m()\u001b[0m\n\u001b[0;32m----> 1\u001b[0m books_pop\u001b[38;5;241m=\u001b[39m\u001b[43mproducts\u001b[49m[(products[\u001b[38;5;124m'\u001b[39m\u001b[38;5;124mgroup\u001b[39m\u001b[38;5;124m'\u001b[39m]\u001b[38;5;241m==\u001b[39m\u001b[38;5;124m'\u001b[39m\u001b[38;5;124mBook\u001b[39m\u001b[38;5;124m'\u001b[39m) \u001b[38;5;241m&\u001b[39m (products[\u001b[38;5;124m'\u001b[39m\u001b[38;5;124msalesrank\u001b[39m\u001b[38;5;124m'\u001b[39m] \u001b[38;5;241m<\u001b[39m\u001b[38;5;241m=\u001b[39m \u001b[38;5;241m130000\u001b[39m)]\n\u001b[1;32m      2\u001b[0m books_pop_cops\u001b[38;5;241m=\u001b[39mcops[cops\u001b[38;5;241m.\u001b[39mSource\u001b[38;5;241m.\u001b[39misin(books_pop\u001b[38;5;241m.\u001b[39mid) \u001b[38;5;241m&\u001b[39m cops\u001b[38;5;241m.\u001b[39mTarget\u001b[38;5;241m.\u001b[39misin(books_pop\u001b[38;5;241m.\u001b[39mid)]\n\u001b[1;32m      3\u001b[0m g_books_pop \u001b[38;5;241m=\u001b[39m nx\u001b[38;5;241m.\u001b[39mfrom_pandas_edgelist(books_pop_cops, \u001b[38;5;124m'\u001b[39m\u001b[38;5;124mSource\u001b[39m\u001b[38;5;124m'\u001b[39m, \u001b[38;5;124m'\u001b[39m\u001b[38;5;124mTarget\u001b[39m\u001b[38;5;124m'\u001b[39m)\n",
      "\u001b[0;31mNameError\u001b[0m: name 'products' is not defined"
     ]
    }
   ],
   "source": [
    "books_pop=products[(products['group']=='Book') & (products['salesrank'] <= 130000)]\n",
    "books_pop_cops=cops[cops.Source.isin(books_pop.id) & cops.Target.isin(books_pop.id)]\n",
    "g_books_pop = nx.from_pandas_edgelist(books_pop_cops, 'Source', 'Target')\n",
    "\n",
    "get_betweenness(g_books_pop)\n",
    "\n",
    "# g_books = nx.from_pandas_edgelist(books_cops, 'Source', 'Target')\n",
    "# i = max(nx.betweenness_centrality(g_books), key=nx.betweenness_centrality(g_books).get)\n",
    "# print(i)\n",
    "# print(max(nx.betweenness_centrality(g_books)))"
   ]
  },
  {
   "cell_type": "code",
   "execution_count": null,
   "id": "64c5a602",
   "metadata": {},
   "outputs": [],
   "source": []
  },
  {
   "cell_type": "code",
   "execution_count": null,
   "id": "4cb371de",
   "metadata": {},
   "outputs": [],
   "source": [
    "# look at gatekeepers"
   ]
  },
  {
   "cell_type": "code",
   "execution_count": null,
   "id": "9e8609cd",
   "metadata": {},
   "outputs": [],
   "source": [
    "# look at cycles"
   ]
  },
  {
   "cell_type": "code",
   "execution_count": 7,
   "id": "f699b74d",
   "metadata": {},
   "outputs": [
    {
     "data": {
      "text/html": [
       "\n",
       "        <iframe\n",
       "            width=\"500px\"\n",
       "            height=\"500px\"\n",
       "            src=\"example.html\"\n",
       "            frameborder=\"0\"\n",
       "            allowfullscreen\n",
       "            \n",
       "        ></iframe>\n",
       "        "
      ],
      "text/plain": [
       "<IPython.lib.display.IFrame at 0x7fc093cd6a00>"
      ]
     },
     "execution_count": 7,
     "metadata": {},
     "output_type": "execute_result"
    }
   ],
   "source": [
    "# visualization of graph\n",
    "from pyvis.network import Network\n",
    "net = Network(notebook = True)\n",
    "net.from_nx(g_dvds)\n",
    "net.show(\"example.html\")"
   ]
  },
  {
   "cell_type": "code",
   "execution_count": 9,
   "id": "c684d056",
   "metadata": {},
   "outputs": [
    {
     "data": {
      "text/html": [
       "\n",
       "        <iframe\n",
       "            width=\"500px\"\n",
       "            height=\"500px\"\n",
       "            src=\"example.html\"\n",
       "            frameborder=\"0\"\n",
       "            allowfullscreen\n",
       "            \n",
       "        ></iframe>\n",
       "        "
      ],
      "text/plain": [
       "<IPython.lib.display.IFrame at 0x7fc0e7f1cc10>"
      ]
     },
     "execution_count": 9,
     "metadata": {},
     "output_type": "execute_result"
    }
   ],
   "source": [
    "net = Network(notebook = True)\n",
    "net.from_nx(g_videos)\n",
    "net.show(\"example.html\")"
   ]
  },
  {
   "cell_type": "code",
   "execution_count": null,
   "id": "4aefa9e6",
   "metadata": {},
   "outputs": [],
   "source": [
    "net = Network(notebook = True)\n",
    "net.from_nx(g)\n",
    "net.show(\"example.html\")"
   ]
  },
  {
   "cell_type": "code",
   "execution_count": null,
   "id": "1d2ea490",
   "metadata": {},
   "outputs": [],
   "source": [
    "# maybe do hubs/authorities? page rank? "
   ]
  }
 ],
 "metadata": {
  "kernelspec": {
   "display_name": "Python 3 (ipykernel)",
   "language": "python",
   "name": "python3"
  },
  "language_info": {
   "codemirror_mode": {
    "name": "ipython",
    "version": 3
   },
   "file_extension": ".py",
   "mimetype": "text/x-python",
   "name": "python",
   "nbconvert_exporter": "python",
   "pygments_lexer": "ipython3",
   "version": "3.9.7"
  }
 },
 "nbformat": 4,
 "nbformat_minor": 5
}
