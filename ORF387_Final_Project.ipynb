{
 "cells": [
  {
   "cell_type": "code",
   "execution_count": 1,
   "id": "52eb2162",
   "metadata": {},
   "outputs": [],
   "source": [
    "import networkx as nx\n",
    "import pandas as pd\n",
    "import numpy as np\n",
    "import matplotlib.pyplot as plt\n",
    "import scipy"
   ]
  },
  {
   "cell_type": "code",
   "execution_count": 2,
   "id": "bb994e3d",
   "metadata": {},
   "outputs": [
    {
     "name": "stdout",
     "output_type": "stream",
     "text": [
      "Collecting pyvis\n",
      "  Downloading pyvis-0.1.9-py3-none-any.whl (23 kB)\n",
      "Collecting jsonpickle>=1.4.1\n",
      "  Downloading jsonpickle-2.1.0-py2.py3-none-any.whl (38 kB)\n",
      "Requirement already satisfied: jinja2>=2.9.6 in /Users/christinecho/opt/anaconda3/envs/my-conda-env/lib/python3.9/site-packages (from pyvis) (3.0.3)\n",
      "Requirement already satisfied: networkx>=1.11 in /Users/christinecho/opt/anaconda3/envs/my-conda-env/lib/python3.9/site-packages (from pyvis) (2.7.1)\n",
      "Requirement already satisfied: ipython>=5.3.0 in /Users/christinecho/opt/anaconda3/envs/my-conda-env/lib/python3.9/site-packages (from pyvis) (8.1.1)\n",
      "Requirement already satisfied: pygments>=2.4.0 in /Users/christinecho/opt/anaconda3/envs/my-conda-env/lib/python3.9/site-packages (from ipython>=5.3.0->pyvis) (2.11.2)\n",
      "Requirement already satisfied: pexpect>4.3 in /Users/christinecho/opt/anaconda3/envs/my-conda-env/lib/python3.9/site-packages (from ipython>=5.3.0->pyvis) (4.8.0)\n",
      "Requirement already satisfied: setuptools>=18.5 in /Users/christinecho/opt/anaconda3/envs/my-conda-env/lib/python3.9/site-packages (from ipython>=5.3.0->pyvis) (58.0.4)\n",
      "Requirement already satisfied: backcall in /Users/christinecho/opt/anaconda3/envs/my-conda-env/lib/python3.9/site-packages (from ipython>=5.3.0->pyvis) (0.2.0)\n",
      "Requirement already satisfied: appnope in /Users/christinecho/opt/anaconda3/envs/my-conda-env/lib/python3.9/site-packages (from ipython>=5.3.0->pyvis) (0.1.2)\n",
      "Requirement already satisfied: prompt-toolkit!=3.0.0,!=3.0.1,<3.1.0,>=2.0.0 in /Users/christinecho/opt/anaconda3/envs/my-conda-env/lib/python3.9/site-packages (from ipython>=5.3.0->pyvis) (3.0.20)\n",
      "Requirement already satisfied: matplotlib-inline in /Users/christinecho/opt/anaconda3/envs/my-conda-env/lib/python3.9/site-packages (from ipython>=5.3.0->pyvis) (0.1.2)\n",
      "Requirement already satisfied: jedi>=0.16 in /Users/christinecho/opt/anaconda3/envs/my-conda-env/lib/python3.9/site-packages (from ipython>=5.3.0->pyvis) (0.18.1)\n",
      "Requirement already satisfied: traitlets>=5 in /Users/christinecho/opt/anaconda3/envs/my-conda-env/lib/python3.9/site-packages (from ipython>=5.3.0->pyvis) (5.1.1)\n",
      "Requirement already satisfied: pickleshare in /Users/christinecho/opt/anaconda3/envs/my-conda-env/lib/python3.9/site-packages (from ipython>=5.3.0->pyvis) (0.7.5)\n",
      "Requirement already satisfied: decorator in /Users/christinecho/opt/anaconda3/envs/my-conda-env/lib/python3.9/site-packages (from ipython>=5.3.0->pyvis) (5.1.1)\n",
      "Requirement already satisfied: stack-data in /Users/christinecho/opt/anaconda3/envs/my-conda-env/lib/python3.9/site-packages (from ipython>=5.3.0->pyvis) (0.2.0)\n",
      "Requirement already satisfied: parso<0.9.0,>=0.8.0 in /Users/christinecho/opt/anaconda3/envs/my-conda-env/lib/python3.9/site-packages (from jedi>=0.16->ipython>=5.3.0->pyvis) (0.8.3)\n",
      "Requirement already satisfied: MarkupSafe>=2.0 in /Users/christinecho/opt/anaconda3/envs/my-conda-env/lib/python3.9/site-packages (from jinja2>=2.9.6->pyvis) (2.0.1)\n",
      "Requirement already satisfied: ptyprocess>=0.5 in /Users/christinecho/opt/anaconda3/envs/my-conda-env/lib/python3.9/site-packages (from pexpect>4.3->ipython>=5.3.0->pyvis) (0.7.0)\n",
      "Requirement already satisfied: wcwidth in /Users/christinecho/opt/anaconda3/envs/my-conda-env/lib/python3.9/site-packages (from prompt-toolkit!=3.0.0,!=3.0.1,<3.1.0,>=2.0.0->ipython>=5.3.0->pyvis) (0.2.5)\n",
      "Requirement already satisfied: asttokens in /Users/christinecho/opt/anaconda3/envs/my-conda-env/lib/python3.9/site-packages (from stack-data->ipython>=5.3.0->pyvis) (2.0.5)\n",
      "Requirement already satisfied: pure-eval in /Users/christinecho/opt/anaconda3/envs/my-conda-env/lib/python3.9/site-packages (from stack-data->ipython>=5.3.0->pyvis) (0.2.2)\n",
      "Requirement already satisfied: executing in /Users/christinecho/opt/anaconda3/envs/my-conda-env/lib/python3.9/site-packages (from stack-data->ipython>=5.3.0->pyvis) (0.8.3)\n",
      "Requirement already satisfied: six in /Users/christinecho/opt/anaconda3/envs/my-conda-env/lib/python3.9/site-packages (from asttokens->stack-data->ipython>=5.3.0->pyvis) (1.16.0)\n",
      "Installing collected packages: jsonpickle, pyvis\n",
      "Successfully installed jsonpickle-2.1.0 pyvis-0.1.9\n",
      "Note: you may need to restart the kernel to use updated packages.\n"
     ]
    }
   ],
   "source": [
    "pip install pyvis"
   ]
  },
  {
   "cell_type": "code",
   "execution_count": 3,
   "id": "ac0bb58e",
   "metadata": {},
   "outputs": [],
   "source": [
    "products =pd.DataFrame(pd.read_csv('products.csv'))\n",
    "cops=pd.DataFrame(pd.read_csv('copurchase.csv'))"
   ]
  },
  {
   "cell_type": "code",
   "execution_count": null,
   "id": "55a7a552",
   "metadata": {},
   "outputs": [],
   "source": [
    "products.head()"
   ]
  },
  {
   "cell_type": "code",
   "execution_count": null,
   "id": "16584276",
   "metadata": {},
   "outputs": [],
   "source": [
    "cops.head()"
   ]
  },
  {
   "cell_type": "code",
   "execution_count": 4,
   "id": "137cfd4e",
   "metadata": {},
   "outputs": [],
   "source": [
    "g = nx.from_pandas_edgelist(cops, 'Source', 'Target')"
   ]
  },
  {
   "cell_type": "code",
   "execution_count": null,
   "id": "8ec9488a",
   "metadata": {},
   "outputs": [],
   "source": [
    "products.group.unique()"
   ]
  },
  {
   "cell_type": "code",
   "execution_count": 5,
   "id": "eac159dd",
   "metadata": {},
   "outputs": [
    {
     "name": "stdout",
     "output_type": "stream",
     "text": [
      "num books: 188013\n",
      "num music: 48993\n",
      "num dvds: 9554\n",
      "num videos: 12597\n"
     ]
    }
   ],
   "source": [
    "# create dfs for categories\n",
    "books=products[(products['group']=='Book')]\n",
    "books_cops=cops[cops.Source.isin(books.id) & cops.Target.isin(books.id)]\n",
    "\n",
    "music=products[(products['group']=='Music')]\n",
    "music_cops=cops[cops.Source.isin(music.id) & cops.Target.isin(music.id)]\n",
    "\n",
    "dvds=products[(products['group']=='DVD')]\n",
    "dvds_cops=cops[cops.Source.isin(dvds.id) & cops.Target.isin(dvds.id)]\n",
    "\n",
    "videos=products[(products['group']=='Video')]\n",
    "videos_cops=cops[cops.Source.isin(videos.id) & cops.Target.isin(videos.id)]\n",
    "\n",
    "\n",
    "print(\"num books:\", len(books.index))\n",
    "print(\"num music:\", len(music.index))\n",
    "print(\"num dvds:\", len(dvds.index))\n",
    "print(\"num videos:\", len(videos.index))"
   ]
  },
  {
   "cell_type": "markdown",
   "id": "deaa7269",
   "metadata": {},
   "source": [
    "# Look at degrees"
   ]
  },
  {
   "cell_type": "markdown",
   "id": "43e5b540",
   "metadata": {},
   "source": [
    "## Degree"
   ]
  },
  {
   "cell_type": "code",
   "execution_count": 7,
   "id": "92fc6149",
   "metadata": {},
   "outputs": [
    {
     "name": "stdout",
     "output_type": "stream",
     "text": [
      "min degree: 1 ,node id: 289\n",
      "max degree: 420 ,node id: 14949\n",
      "mean degree: 6.865720499027126\n",
      "median degree: 6.0\n"
     ]
    }
   ],
   "source": [
    "nodes = [node for (node, val) in g.degree()]\n",
    "degrees = [val for (node, val) in g.degree()]\n",
    "d = np.array(degrees)\n",
    "\n",
    "print(\"min degree:\", min(d), \",node id:\", nodes[np.argmin(d)]) # prob more than 1\n",
    "print(\"max degree:\", max(d), \",node id:\", nodes[np.argmax(d)])\n",
    "print(\"mean degree:\", np.mean(d))\n",
    "print(\"median degree:\", np.median(d))"
   ]
  },
  {
   "cell_type": "code",
   "execution_count": 8,
   "id": "0881d8ab",
   "metadata": {},
   "outputs": [
    {
     "data": {
      "text/html": [
       "<div>\n",
       "<style scoped>\n",
       "    .dataframe tbody tr th:only-of-type {\n",
       "        vertical-align: middle;\n",
       "    }\n",
       "\n",
       "    .dataframe tbody tr th {\n",
       "        vertical-align: top;\n",
       "    }\n",
       "\n",
       "    .dataframe thead th {\n",
       "        text-align: right;\n",
       "    }\n",
       "</style>\n",
       "<table border=\"1\" class=\"dataframe\">\n",
       "  <thead>\n",
       "    <tr style=\"text-align: right;\">\n",
       "      <th></th>\n",
       "      <th>id</th>\n",
       "      <th>title</th>\n",
       "      <th>group</th>\n",
       "      <th>salesrank</th>\n",
       "      <th>review_cnt</th>\n",
       "      <th>downloads</th>\n",
       "      <th>rating</th>\n",
       "    </tr>\n",
       "  </thead>\n",
       "  <tbody>\n",
       "    <tr>\n",
       "      <th>14805</th>\n",
       "      <td>14949</td>\n",
       "      <td>Fodor's Australia 2000</td>\n",
       "      <td>Book</td>\n",
       "      <td>793062.0</td>\n",
       "      <td>1</td>\n",
       "      <td>1</td>\n",
       "      <td>5.0</td>\n",
       "    </tr>\n",
       "  </tbody>\n",
       "</table>\n",
       "</div>"
      ],
      "text/plain": [
       "          id                   title group  salesrank  review_cnt  downloads  \\\n",
       "14805  14949  Fodor's Australia 2000  Book   793062.0           1          1   \n",
       "\n",
       "       rating  \n",
       "14805     5.0  "
      ]
     },
     "execution_count": 8,
     "metadata": {},
     "output_type": "execute_result"
    }
   ],
   "source": [
    "max_centrality_prod = products[products['id'] == nodes[np.argmax(d)]]\n",
    "max_centrality_prod"
   ]
  },
  {
   "cell_type": "code",
   "execution_count": 9,
   "id": "383ef630",
   "metadata": {},
   "outputs": [
    {
     "data": {
      "text/plain": [
       "(array([2.6141e+05, 5.7100e+02, 8.3000e+01, 2.3000e+01, 1.0000e+01,\n",
       "        4.0000e+00, 3.0000e+00, 3.0000e+00, 1.0000e+00, 2.0000e+00]),\n",
       " array([  1. ,  42.9,  84.8, 126.7, 168.6, 210.5, 252.4, 294.3, 336.2,\n",
       "        378.1, 420. ]),\n",
       " <BarContainer object of 10 artists>)"
      ]
     },
     "execution_count": 9,
     "metadata": {},
     "output_type": "execute_result"
    },
    {
     "data": {
      "image/png": "[encoded data removed]",
      "text/plain": [
       "<Figure size 432x288 with 1 Axes>"
      ]
     },
     "metadata": {
      "needs_background": "light"
     },
     "output_type": "display_data"
    }
   ],
   "source": [
    "fig = plt.figure()\n",
    "ax = fig.add_subplot(2, 1, 1)\n",
    "ax.set_yscale('log')\n",
    "ax.hist(d)"
   ]
  },
  {
   "cell_type": "markdown",
   "id": "8213f2d4",
   "metadata": {},
   "source": [
    "## Betweeness"
   ]
  },
  {
   "cell_type": "code",
   "execution_count": 6,
   "id": "97389a41",
   "metadata": {},
   "outputs": [],
   "source": [
    "g_dvds = nx.from_pandas_edgelist(dvds_cops, 'Source', 'Target')\n",
    "# i = max(nx.betweenness_centrality(g_dvds), key=nx.betweenness_centrality(g_dvds).get)\n",
    "# print(i)\n",
    "# print(max(nx.betweenness_centrality(g_dvds)))\n",
    "\n",
    "# create graph?"
   ]
  },
  {
   "cell_type": "code",
   "execution_count": 8,
   "id": "fcc347d8",
   "metadata": {},
   "outputs": [],
   "source": [
    "g_videos = nx.from_pandas_edgelist(videos_cops, 'Source', 'Target')\n",
    "# i = max(nx.betweenness_centrality(g_videos), key=nx.betweenness_centrality(g_videos).get)\n",
    "# print(i)\n",
    "# print(max(nx.betweenness_centrality(g_videos)))"
   ]
  },
  {
   "cell_type": "code",
   "execution_count": null,
   "id": "a3535b27",
   "metadata": {},
   "outputs": [],
   "source": [
    "g_music = nx.from_pandas_edgelist(music_cops, 'Source', 'Target')\n",
    "i = max(nx.betweenness_centrality(g_music), key=nx.betweenness_centrality(g_music).get)\n",
    "print(i)\n",
    "print(max(nx.betweenness_centrality(g_music)))"
   ]
  },
  {
   "cell_type": "code",
   "execution_count": null,
   "id": "1b6cbc4a",
   "metadata": {},
   "outputs": [],
   "source": [
    "g_books = nx.from_pandas_edgelist(books_cops, 'Source', 'Target')\n",
    "i = max(nx.betweenness_centrality(g_books), key=nx.betweenness_centrality(g_books).get)\n",
    "print(i)\n",
    "print(max(nx.betweenness_centrality(g_books)))"
   ]
  },
  {
   "cell_type": "code",
   "execution_count": null,
   "id": "4cb371de",
   "metadata": {},
   "outputs": [],
   "source": [
    "# look at gatekeepers"
   ]
  },
  {
   "cell_type": "code",
   "execution_count": null,
   "id": "9e8609cd",
   "metadata": {},
   "outputs": [],
   "source": [
    "# look at cycles"
   ]
  },
  {
   "cell_type": "code",
   "execution_count": 7,
   "id": "f699b74d",
   "metadata": {},
   "outputs": [
    {
     "data": {
      "text/html": [
       "\n",
       "        <iframe\n",
       "            width=\"500px\"\n",
       "            height=\"500px\"\n",
       "            src=\"example.html\"\n",
       "            frameborder=\"0\"\n",
       "            allowfullscreen\n",
       "            \n",
       "        ></iframe>\n",
       "        "
      ],
      "text/plain": [
       "<IPython.lib.display.IFrame at 0x7fc093cd6a00>"
      ]
     },
     "execution_count": 7,
     "metadata": {},
     "output_type": "execute_result"
    }
   ],
   "source": [
    "# visualization of graph\n",
    "from pyvis.network import Network\n",
    "net = Network(notebook = True)\n",
    "net.from_nx(g_dvds)\n",
    "net.show(\"example.html\")"
   ]
  },
  {
   "cell_type": "code",
   "execution_count": 9,
   "id": "c684d056",
   "metadata": {},
   "outputs": [
    {
     "data": {
      "text/html": [
       "\n",
       "        <iframe\n",
       "            width=\"500px\"\n",
       "            height=\"500px\"\n",
       "            src=\"example.html\"\n",
       "            frameborder=\"0\"\n",
       "            allowfullscreen\n",
       "            \n",
       "        ></iframe>\n",
       "        "
      ],
      "text/plain": [
       "<IPython.lib.display.IFrame at 0x7fc0e7f1cc10>"
      ]
     },
     "execution_count": 9,
     "metadata": {},
     "output_type": "execute_result"
    }
   ],
   "source": [
    "net = Network(notebook = True)\n",
    "net.from_nx(g_videos)\n",
    "net.show(\"example.html\")"
   ]
  },
  {
   "cell_type": "code",
   "execution_count": null,
   "id": "4aefa9e6",
   "metadata": {},
   "outputs": [],
   "source": [
    "net = Network(notebook = True)\n",
    "net.from_nx(g)\n",
    "net.show(\"example.html\")"
   ]
  },
  {
   "cell_type": "code",
   "execution_count": null,
   "id": "1d2ea490",
   "metadata": {},
   "outputs": [],
   "source": [
    "# maybe do hubs/authorities? page rank? "
   ]
  }
 ],
 "metadata": {
  "kernelspec": {
   "display_name": "Python 3 (ipykernel)",
   "language": "python",
   "name": "python3"
  },
  "language_info": {
   "codemirror_mode": {
    "name": "ipython",
    "version": 3
   },
   "file_extension": ".py",
   "mimetype": "text/x-python",
   "name": "python",
   "nbconvert_exporter": "python",
   "pygments_lexer": "ipython3",
   "version": "3.9.7"
  }
 },
 "nbformat": 4,
 "nbformat_minor": 5
}
